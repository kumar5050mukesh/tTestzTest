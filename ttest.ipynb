{
 "cells": [
  {
   "cell_type": "code",
   "execution_count": null,
   "metadata": {},
   "outputs": [],
   "source": [
    "# Q1: What is the difference between a t-test and a z-test? Provide an example scenario where you would\n",
    "# use each type of test.\n",
    "\"\"\"when we do not know the standard deviation of the population then we use the t test for the hypothesis testing \n",
    "and when we know the standard deviation of the population then there are two case first one is the sample size is \n",
    "less than thirty then we use the t test and when the sample size is more than 30 then we use z score \"\"\""
   ]
  },
  {
   "cell_type": "code",
   "execution_count": null,
   "metadata": {},
   "outputs": [],
   "source": [
    "# Q2: Differentiate between one-tailed and two-tailed tests.\n",
    "\"\"\"In a one-tailed test, the alternative hypothesis is directional, meaning it specifies a particular direction \n",
    "of effect. For example, the alternative hypothesis for a one-tailed test might be \"the mean is greater than X\"\n",
    " or \"the mean is lessthan X\", where X is some value.\n",
    "\n",
    "In a two-tailed test, the alternative hypothesis is non-directional, meaning it specifies that the effect could go in \n",
    "either direction. For example, the alternative hypothesis for a two-tailed test might be \"the mean is not equal to X\",\n",
    " where X is some value.\"\"\""
   ]
  },
  {
   "cell_type": "code",
   "execution_count": null,
   "metadata": {},
   "outputs": [],
   "source": [
    "# Q3: Explain the concept of Type 1 and Type 2 errors in hypothesis testing. Provide an example scenario for\n",
    "# each type of error.\n",
    "\"\"\"when in reality the null hypthesis is true but we reject the null hypothesis it is called the type 1 error\n",
    "when in reality the null hypothesis the false but we accept the null hypothesis it is called the type 2 error \n",
    "\n",
    "type 1 error (false positive case )this occur in the case when the person does not has disease but the result shows that\n",
    "the person has disease \n",
    "\n",
    "type 2 occur in the case of (false negative case )although the person has disease but in the result it does not shows \n",
    "that the person has disease \"\"\""
   ]
  },
  {
   "cell_type": "code",
   "execution_count": null,
   "metadata": {},
   "outputs": [],
   "source": [
    "# Q4: Explain Bayes's theorem with an example.\n",
    "\"\"\"\n",
    "P(A|B) = P(B|A) x P(A) / P(B)\n",
    "\n",
    "where:\n",
    "P(A)= The probability of A occurring\n",
    "P(B)= The probability of B occurring\n",
    "P(A∣B)=The probability of A given B\n",
    "P(B∣A)= The probability of B given A\n",
    "P(A⋂B))= The probability of both A and B occurring\n",
    "​there is a drug test that is 98% accurate, meaning that 98% of the time, it shows a true positive result for someone using  drug, \n",
    "and 98% of the time, it shows a true negative result for nonusers of the drug.\n",
    "\n",
    "Next, assume 0.5% of people use the drug. If a person selected at random tests positive for the drug, the following\n",
    "\n",
    " calculation can be made to determine the probability the person is actually a user of the drug.\n",
    "\n",
    "(0.98 x 0.005) / [(0.98 x 0.005) + ((1 - 0.98) x (1 - 0.005))] = 0.0049 / (0.0049 + 0.0199) = 19.76%\n",
    "Bayes' Theorem shows that even if a person tested positive in this scenario, there is a roughly 80% chance the person\n",
    " does not take the drug.\n",
    "\n",
    "\n",
    "\n",
    "\n",
    "\n",
    "\"\"\""
   ]
  },
  {
   "cell_type": "code",
   "execution_count": 60,
   "metadata": {},
   "outputs": [
    {
     "name": "stdout",
     "output_type": "stream",
     "text": [
      "485.79015724388137\n",
      "514.2098427561186\n"
     ]
    }
   ],
   "source": [
    "# Q5: What is a confidence interval? How to calculate the confidence interval, explain with an example.\n",
    "\"\"\"A confidence interval is a range of values that is likely to contain the true value of a population parameter with a\n",
    " certain level of confidence. \n",
    "Confidence interval = sample mean ± (z-score or t-score) x (standard error)\n",
    "\n",
    "The z-score or t-score is determined based on the desired level of confidence and the sample size. For large sample\n",
    " sizes (n > 30), the z-score is used, while for small sample sizes, the t-score is used.\"\"\"\n",
    "\n",
    " #  A coffee shop owner wants to estimate the average daily revenue for their shop. They take a random\n",
    "# sample of 50 days and find the sample mean revenue to be $500 with a standard deviation of $50.\n",
    "# Estimate the population mean revenue with a 95% confidence interval.\n",
    "import scipy.stats as stats\n",
    "import math\n",
    "s_mean = 500\n",
    "s_std = 50\n",
    "n = 50\n",
    "df = n - 1\n",
    "alpha=.05\n",
    "t_value = stats.t.ppf(1-alpha/2, df)\n",
    "std_error = s_std / math.sqrt(n)\n",
    "lower = s_mean - t_value * std_error\n",
    "upper = s_mean + t_value * std_error\n",
    "print(lower)\n",
    "print(upper)"
   ]
  },
  {
   "cell_type": "code",
   "execution_count": null,
   "metadata": {},
   "outputs": [],
   "source": [
    "# Q6. Use Bayes' Theorem to calculate the probability of an event occurring given prior knowledge of the\n",
    "# event's probability and new evidence. Provide a sample problem and solution.\n",
    "\n",
    "\"\"\"Suppose that a factory produces two types of fans, Type A and Type B. The factory produces 55% Type\n",
    " A fan and 45% Type B fan. It is known that 80% of Type A fan and 90% of Type B fan\n",
    " \n",
    " are of good quality. A fan is selected at random from the factory and tested, and it is found to be of\n",
    "   good quality. What is the probability that the fan is Type A?\n",
    "\n",
    "Solution:\n",
    "\n",
    "Let's define the following events:\n",
    "\n",
    "A: the event that the selected fan is Type A\n",
    "B: the event that the selected fan is Type B\n",
    "G: the event that the selected fan is of good quality\n",
    "\n",
    "We are given that:\n",
    "P(A) = 0.55 (the prior probability of selecting a Type A fan)\n",
    "P(B) = 0.45 (the prior probability of selecting a Type B fan)\n",
    "P(G|A) = 0.80 (the probability that a Type A fan is of good quality)\n",
    "P(G|B) = 0.90 (the probability that a Type B fan is of good quality)\n",
    "\n",
    "\n",
    "\n",
    "P(A|G) = P(G|A) x P(A) / P(G)\n",
    "where P(G) = P(G|A) x P(A) + P(G|B) x P(B) \n",
    "We can calculate P(G) as follows:\n",
    "\n",
    "P(G) = P(G|A) x P(A) + P(G|B) x P(B)\n",
    "= 0.80 x 0.55 + 0.9 x 0.45\n",
    "= 0.84\n",
    "\n",
    "Now we can calculate P(A|G) as:\n",
    "\n",
    "P(A|G) = P(G|A) x P(A) / P(G)\n",
    "= 0.80 x 0.55/ 0.84\n",
    "= 52.38%\n",
    "\n",
    "\n",
    "\n",
    "\n",
    "\n",
    "\n",
    "\"\"\""
   ]
  },
  {
   "cell_type": "code",
   "execution_count": 70,
   "metadata": {},
   "outputs": [
    {
     "name": "stdout",
     "output_type": "stream",
     "text": [
      "49.02001800772997 50.97998199227003\n"
     ]
    }
   ],
   "source": [
    "# Q7. Calculate the 95% confidence interval for a sample of data with a mean of 50 and a standard deviation\n",
    "# of 5. Interpret the results.\n",
    "\n",
    "import math\n",
    "\n",
    "\n",
    "sample_mean = 50\n",
    "sample_std = 5\n",
    "sample_size = 100  \n",
    "\n",
    "alpha = 0.05\n",
    "z_critical = (stats.norm.ppf(1-alpha/2))\n",
    "\n",
    "\n",
    "se = sample_std / math.sqrt(sample_size)\n",
    "\n",
    "\n",
    "lower_bound = sample_mean - z_critical * se\n",
    "upper_bound = sample_mean + z_critical * se\n",
    "\n",
    "\n",
    "print(lower_bound,upper_bound)\n"
   ]
  },
  {
   "cell_type": "code",
   "execution_count": 19,
   "metadata": {},
   "outputs": [
    {
     "name": "stdout",
     "output_type": "stream",
     "text": [
      "7.071067811865475\n"
     ]
    }
   ],
   "source": [
    "# Q8. What is the margin of error in a confidence interval? How does sample size affect the margin of error?\n",
    "# # Provide an example of a scenario where a larger sample size would result in a smaller margin of error.\n",
    "import scipy.stats as stats\n",
    "import math\n",
    "s_mean = 500\n",
    "s_std = 50\n",
    "n = 50\n",
    "df = n - 1\n",
    "t_value = stats.t.ppf(0.975, df)\n",
    "std_error = s_std / math.sqrt(n)\n",
    "print(std_error)"
   ]
  },
  {
   "cell_type": "code",
   "execution_count": 20,
   "metadata": {},
   "outputs": [
    {
     "name": "stdout",
     "output_type": "stream",
     "text": [
      "2.23606797749979\n"
     ]
    }
   ],
   "source": [
    "import scipy.stats as stats\n",
    "import math\n",
    "s_mean = 500\n",
    "s_std = 50\n",
    "n = 500\n",
    "df = n - 1\n",
    "t_value = stats.t.ppf(0.975, df)\n",
    "std_error = s_std / math.sqrt(n)\n",
    "print(std_error)"
   ]
  },
  {
   "cell_type": "code",
   "execution_count": 22,
   "metadata": {},
   "outputs": [
    {
     "name": "stdout",
     "output_type": "stream",
     "text": [
      "0.7071067811865475\n"
     ]
    }
   ],
   "source": [
    "import scipy.stats as stats\n",
    "import math\n",
    "s_mean = 500\n",
    "s_std = 50\n",
    "n = 5000\n",
    "df = n - 1\n",
    "t_value = stats.t.ppf(0.975, df)\n",
    "std_error = s_std / math.sqrt(n)\n",
    "print(std_error)\n",
    "\"\"\"this clearly shows as we increase the sample size the error decreases for n=50 error is 7.07\n",
    "for n=500 error is 2.23 for n=5000 error is .70\"\"\""
   ]
  },
  {
   "cell_type": "code",
   "execution_count": 23,
   "metadata": {},
   "outputs": [
    {
     "data": {
      "text/plain": [
       "1.0"
      ]
     },
     "execution_count": 23,
     "metadata": {},
     "output_type": "execute_result"
    }
   ],
   "source": [
    "# Q9. Calculate the z-score for a data point with a value of 75, a population mean of 70, and a population\n",
    "# standard deviation of 5. Interpret the results.\n",
    "\n",
    "def z_score(x, mu, sigma):\n",
    "    z = (x - mu) / sigma\n",
    "    return z\n",
    "z_score(75,70,5)"
   ]
  },
  {
   "cell_type": "code",
   "execution_count": 69,
   "metadata": {},
   "outputs": [
    {
     "name": "stdout",
     "output_type": "stream",
     "text": [
      "reject null hypothesis   , significantly effective \n"
     ]
    }
   ],
   "source": [
    "# Q10. In a study of the effectiveness of a new weight loss drug, a sample of 50 participants lost an average\n",
    "# of 6 pounds with a standard deviation of 2.5 pounds. Conduct a hypothesis test to determine if the drug is\n",
    "# significantly effective at a 95% confidence level using a t-test.\n",
    "\"\"\"H(0):average<=0 pound lost\n",
    "H(1):average> pound lost\"\"\"\n",
    "\n",
    "from math import sqrt\n",
    "from scipy.stats import t\n",
    "import scipy.stats as stats\n",
    "\n",
    "def t_value(x_bar, mu, n, s):\n",
    "    se = s / sqrt(n)  \n",
    "    t_val = (x_bar - mu) / se  \n",
    "    return t_val\n",
    "\n",
    "t_val=t_value(6,0,50,2.5)\n",
    "\n",
    "alpha=.05\n",
    "t_tabulated=stats.t.ppf(1-alpha, df)\n",
    "\n",
    "if t_val > t_tabulated:\n",
    "    print(\"reject null hypothesis   , significantly effective \")\n",
    "else:\n",
    "    print(\"failed to reject null hypothesis, not effective\")\n"
   ]
  },
  {
   "cell_type": "code",
   "execution_count": 68,
   "metadata": {},
   "outputs": [
    {
     "name": "stdout",
     "output_type": "stream",
     "text": [
      "1.647912984059706\n",
      "0.6148488147087496\n",
      "0.6851511852912504\n"
     ]
    }
   ],
   "source": [
    "# Q11. In a survey of 500 people, 65% reported being satisfied with their current job. Calculate the 95%\n",
    "# confidence interval for the true proportion of people who are satisfied with their job.\n",
    "\n",
    "import scipy.stats as stats\n",
    "from scipy.stats import t\n",
    "import math\n",
    "n=500\n",
    "p=0.65\n",
    "alpha=.05\n",
    "t_val=(stats.t.ppf(1-alpha,n-1))\n",
    "print(t_val)\n",
    "\n",
    "lower = p - t_val *  sqrt(p * (1 - p) / n)\n",
    "upper = p + t_val *  sqrt(p * (1 - p) / n)\n",
    "print(lower)\n",
    "print(upper)"
   ]
  },
  {
   "cell_type": "code",
   "execution_count": null,
   "metadata": {},
   "outputs": [],
   "source": [
    "# Q12. A researcher is testing the effectiveness of two different teaching methods on student performance.\n",
    "# Sample A has a mean score of 85 with a standard deviation of 6, while sample B has a mean score of 82\n",
    "# with a standard deviation of 5. Conduct a hypothesis test to determine if the two teaching methods have a\n",
    "# significant difference in student performance using a t-test with a significance level of 0.01."
   ]
  },
  {
   "cell_type": "code",
   "execution_count": 71,
   "metadata": {},
   "outputs": [
    {
     "name": "stdout",
     "output_type": "stream",
     "text": [
      "Fail to reject null hypothesis\n"
     ]
    }
   ],
   "source": [
    "import math\n",
    "\n",
    "\n",
    "n1 = 30\n",
    "x1 = 85\n",
    "s1 = 6\n",
    "\n",
    "\n",
    "n2 = 30\n",
    "x2 = 82\n",
    "s2 = 5\n",
    "\n",
    "sp = math.sqrt(((n1 - 1)*(s1**2) + (n2 - 1)*(s2**2)) / (n1 + n2 - 2))\n",
    "\n",
    "t = (x1 - x2) / (sp * math.sqrt((1/n1) + (1/n2)))\n",
    "\n",
    "df = n1 + n2 - 2\n",
    "\n",
    "\n",
    "alpha = 0.01\n",
    "# t_critical/t tabulated for two tail test\n",
    "t_crit = stats.t.ppf(1-alpha/2, df)\n",
    "# # t_critical/t tabulated  for one tail test\n",
    "# t_crit = stats.t.ppf(1-alpha, df)\n",
    "\n",
    "\n",
    "# compare t-value and critical t-value\n",
    "if abs(t) > t_crit:\n",
    "    print(\"Reject null hypothesis. \")\n",
    "else:\n",
    "    print(\"Fail to reject null hypothesis\")\n",
    "\n",
    "\n"
   ]
  },
  {
   "cell_type": "code",
   "execution_count": null,
   "metadata": {},
   "outputs": [],
   "source": [
    "# Q13. A population has a mean of 60 and a standard deviation of 8. A sample of 50 observations has a mean\n",
    "# of 65. Calculate the 90% confidence interval for the true population mean."
   ]
  },
  {
   "cell_type": "code",
   "execution_count": 74,
   "metadata": {},
   "outputs": [
    {
     "name": "stdout",
     "output_type": "stream",
     "text": [
      "63.13906055411732\n",
      "66.86093944588268\n"
     ]
    }
   ],
   "source": [
    "import scipy.stats as stats\n",
    "import math\n",
    "\n",
    "\n",
    "mu = 60\n",
    "sigma = 8\n",
    "\n",
    "\n",
    "n = 50\n",
    "x_bar = 65\n",
    "\n",
    "\n",
    "alpha = 0.1  \n",
    "z_crit = stats.norm.ppf(1 - alpha/2)\n",
    "\n",
    "\n",
    "\n",
    "se = sigma / math.sqrt(n)\n",
    "\n",
    "\n",
    "lower_ci = x_bar - z_crit * se\n",
    "upper_ci = x_bar + z_crit * se\n",
    "\n",
    "\n",
    "\n",
    "print( lower_ci)\n",
    "print( upper_ci)\n"
   ]
  },
  {
   "cell_type": "code",
   "execution_count": 75,
   "metadata": {},
   "outputs": [
    {
     "name": "stdout",
     "output_type": "stream",
     "text": [
      " Caffeine has a significant effect on reaction time.\n"
     ]
    }
   ],
   "source": [
    "# Q14. In a study of the effects of caffeine on reaction time, a sample of 30 participants had an average\n",
    "# reaction time of 0.25 seconds with a standard deviation of 0.05 seconds. Conduct a hypothesis test to\n",
    "# determine if the caffeine has a significant effect on reaction time at a 90% confidence level using a t-test.\n",
    "\n",
    "\n",
    "import math\n",
    "from scipy.stats import t\n",
    "\n",
    "n = 30\n",
    "x_bar = 0.25\n",
    "s = 0.05\n",
    "\n",
    "\n",
    "mu = 0\n",
    "\n",
    "\n",
    "t_value = (x_bar - mu) / (s / math.sqrt(n))\n",
    "\n",
    "\n",
    "df = n - 1\n",
    "\n",
    "\n",
    "alpha = 0.1\n",
    "t_crit = abs(t.ppf(alpha/2, df))\n",
    "\n",
    "\n",
    "if abs(t_value) > t_crit:\n",
    "    print(\" Caffeine has a significant effect on reaction time.\")\n",
    "else:\n",
    "    print(\"No significant effect of caffeine on reaction time.\")\n"
   ]
  },
  {
   "cell_type": "code",
   "execution_count": null,
   "metadata": {},
   "outputs": [],
   "source": []
  }
 ],
 "metadata": {
  "kernelspec": {
   "display_name": "Python 3",
   "language": "python",
   "name": "python3"
  },
  "language_info": {
   "codemirror_mode": {
    "name": "ipython",
    "version": 3
   },
   "file_extension": ".py",
   "mimetype": "text/x-python",
   "name": "python",
   "nbconvert_exporter": "python",
   "pygments_lexer": "ipython3",
   "version": "3.11.2"
  },
  "orig_nbformat": 4
 },
 "nbformat": 4,
 "nbformat_minor": 2
}
